{
 "cells": [
  {
   "cell_type": "code",
   "execution_count": 7,
   "id": "7cb2f31b",
   "metadata": {},
   "outputs": [],
   "source": [
    "import os\n",
    "import numpy as np\n",
    "import pandas as pd \n",
    "import seaborn as sns\n",
    "import matplotlib.pyplot as plt\n",
    "import scipy.stats as stats\n",
    "import yfinance as yf\n",
    "from matplotlib.collections import PolyCollection\n",
    "import statsmodels.api as sm\n",
    "import statsmodels.tsa.api as smt\n",
    "import pmdarima as pmd\n",
    "plt.rcParams['figure.figsize']=(10,8)"
   ]
  },
  {
   "cell_type": "markdown",
   "id": "54e251b1",
   "metadata": {},
   "source": [
    "# Exploration des données (MASI)"
   ]
  },
  {
   "cell_type": "code",
   "execution_count": 8,
   "id": "5a761920",
   "metadata": {},
   "outputs": [],
   "source": [
    "MASI=pd.read_excel('HistoricDatas.xlsx',index_col=5,parse_dates=[5])\n",
    "MASI['Prix']=MASI['Prix'].astype(str).str.replace(\",\", \".\")\n",
    "MASI['Prix']=MASI['Prix'].astype(str).str.replace(\" \", \"\")\n",
    "MASI['Prix']=MASI['Prix'].astype(float)"
   ]
  },
  {
   "cell_type": "code",
   "execution_count": 9,
   "id": "57d63065",
   "metadata": {},
   "outputs": [
    {
     "data": {
      "text/html": [
       "<div>\n",
       "<style scoped>\n",
       "    .dataframe tbody tr th:only-of-type {\n",
       "        vertical-align: middle;\n",
       "    }\n",
       "\n",
       "    .dataframe tbody tr th {\n",
       "        vertical-align: top;\n",
       "    }\n",
       "\n",
       "    .dataframe thead th {\n",
       "        text-align: right;\n",
       "    }\n",
       "</style>\n",
       "<table border=\"1\" class=\"dataframe\">\n",
       "  <thead>\n",
       "    <tr style=\"text-align: right;\">\n",
       "      <th></th>\n",
       "      <th>Code</th>\n",
       "      <th>Codification</th>\n",
       "      <th>ExchangeCode</th>\n",
       "      <th>Libelle</th>\n",
       "      <th>Devise</th>\n",
       "      <th>Ouverture</th>\n",
       "      <th>Plus haut</th>\n",
       "      <th>Plus bas</th>\n",
       "      <th>Prix</th>\n",
       "    </tr>\n",
       "    <tr>\n",
       "      <th>Date</th>\n",
       "      <th></th>\n",
       "      <th></th>\n",
       "      <th></th>\n",
       "      <th></th>\n",
       "      <th></th>\n",
       "      <th></th>\n",
       "      <th></th>\n",
       "      <th></th>\n",
       "      <th></th>\n",
       "    </tr>\n",
       "  </thead>\n",
       "  <tbody>\n",
       "    <tr>\n",
       "      <th>2016-04-01</th>\n",
       "      <td>MA0000000050</td>\n",
       "      <td>ISIN</td>\n",
       "      <td>XCAS</td>\n",
       "      <td>MASI</td>\n",
       "      <td>MAD</td>\n",
       "      <td>8 918,89</td>\n",
       "      <td>8 931,24</td>\n",
       "      <td>8 868,95</td>\n",
       "      <td>8888.04</td>\n",
       "    </tr>\n",
       "    <tr>\n",
       "      <th>2016-05-01</th>\n",
       "      <td>MA0000000050</td>\n",
       "      <td>ISIN</td>\n",
       "      <td>XCAS</td>\n",
       "      <td>MASI</td>\n",
       "      <td>MAD</td>\n",
       "      <td>8 882,22</td>\n",
       "      <td>8 889,92</td>\n",
       "      <td>8 823,19</td>\n",
       "      <td>8837.81</td>\n",
       "    </tr>\n",
       "    <tr>\n",
       "      <th>2016-06-01</th>\n",
       "      <td>MA0000000050</td>\n",
       "      <td>ISIN</td>\n",
       "      <td>XCAS</td>\n",
       "      <td>MASI</td>\n",
       "      <td>MAD</td>\n",
       "      <td>8 834,07</td>\n",
       "      <td>8 847,21</td>\n",
       "      <td>8 817,81</td>\n",
       "      <td>8842.12</td>\n",
       "    </tr>\n",
       "    <tr>\n",
       "      <th>2016-07-01</th>\n",
       "      <td>MA0000000050</td>\n",
       "      <td>ISIN</td>\n",
       "      <td>XCAS</td>\n",
       "      <td>MASI</td>\n",
       "      <td>MAD</td>\n",
       "      <td>8 841,51</td>\n",
       "      <td>8 856,69</td>\n",
       "      <td>8 823,62</td>\n",
       "      <td>8856.09</td>\n",
       "    </tr>\n",
       "    <tr>\n",
       "      <th>2016-08-01</th>\n",
       "      <td>MA0000000050</td>\n",
       "      <td>ISIN</td>\n",
       "      <td>XCAS</td>\n",
       "      <td>MASI</td>\n",
       "      <td>MAD</td>\n",
       "      <td>8 836,69</td>\n",
       "      <td>8 843,64</td>\n",
       "      <td>8 820,90</td>\n",
       "      <td>8836.93</td>\n",
       "    </tr>\n",
       "    <tr>\n",
       "      <th>...</th>\n",
       "      <td>...</td>\n",
       "      <td>...</td>\n",
       "      <td>...</td>\n",
       "      <td>...</td>\n",
       "      <td>...</td>\n",
       "      <td>...</td>\n",
       "      <td>...</td>\n",
       "      <td>...</td>\n",
       "      <td>...</td>\n",
       "    </tr>\n",
       "    <tr>\n",
       "      <th>2021-09-27</th>\n",
       "      <td>MA0000000050</td>\n",
       "      <td>ISIN</td>\n",
       "      <td>XCAS</td>\n",
       "      <td>MASI</td>\n",
       "      <td>MAD</td>\n",
       "      <td>13 131,88</td>\n",
       "      <td>13 168,00</td>\n",
       "      <td>13 073,01</td>\n",
       "      <td>13122.02</td>\n",
       "    </tr>\n",
       "    <tr>\n",
       "      <th>2021-09-28</th>\n",
       "      <td>MA0000000050</td>\n",
       "      <td>ISIN</td>\n",
       "      <td>XCAS</td>\n",
       "      <td>MASI</td>\n",
       "      <td>MAD</td>\n",
       "      <td>13 122,02</td>\n",
       "      <td>13 169,39</td>\n",
       "      <td>13 092,35</td>\n",
       "      <td>13169.39</td>\n",
       "    </tr>\n",
       "    <tr>\n",
       "      <th>2021-09-29</th>\n",
       "      <td>MA0000000050</td>\n",
       "      <td>ISIN</td>\n",
       "      <td>XCAS</td>\n",
       "      <td>MASI</td>\n",
       "      <td>MAD</td>\n",
       "      <td>13 169,39</td>\n",
       "      <td>13 209,65</td>\n",
       "      <td>13 169,34</td>\n",
       "      <td>13197.28</td>\n",
       "    </tr>\n",
       "    <tr>\n",
       "      <th>2021-09-30</th>\n",
       "      <td>MA0000000050</td>\n",
       "      <td>ISIN</td>\n",
       "      <td>XCAS</td>\n",
       "      <td>MASI</td>\n",
       "      <td>MAD</td>\n",
       "      <td>13 197,28</td>\n",
       "      <td>13 203,02</td>\n",
       "      <td>13 141,87</td>\n",
       "      <td>13186.82</td>\n",
       "    </tr>\n",
       "    <tr>\n",
       "      <th>2021-01-10</th>\n",
       "      <td>MA0000000050</td>\n",
       "      <td>ISIN</td>\n",
       "      <td>XCAS</td>\n",
       "      <td>MASI</td>\n",
       "      <td>MAD</td>\n",
       "      <td>13 186,82</td>\n",
       "      <td>13 186,82</td>\n",
       "      <td>13 085,31</td>\n",
       "      <td>13105.71</td>\n",
       "    </tr>\n",
       "  </tbody>\n",
       "</table>\n",
       "<p>1430 rows × 9 columns</p>\n",
       "</div>"
      ],
      "text/plain": [
       "                    Code Codification ExchangeCode Libelle Devise  Ouverture  \\\n",
       "Date                                                                           \n",
       "2016-04-01  MA0000000050         ISIN         XCAS    MASI    MAD   8 918,89   \n",
       "2016-05-01  MA0000000050         ISIN         XCAS    MASI    MAD   8 882,22   \n",
       "2016-06-01  MA0000000050         ISIN         XCAS    MASI    MAD   8 834,07   \n",
       "2016-07-01  MA0000000050         ISIN         XCAS    MASI    MAD   8 841,51   \n",
       "2016-08-01  MA0000000050         ISIN         XCAS    MASI    MAD   8 836,69   \n",
       "...                  ...          ...          ...     ...    ...        ...   \n",
       "2021-09-27  MA0000000050         ISIN         XCAS    MASI    MAD  13 131,88   \n",
       "2021-09-28  MA0000000050         ISIN         XCAS    MASI    MAD  13 122,02   \n",
       "2021-09-29  MA0000000050         ISIN         XCAS    MASI    MAD  13 169,39   \n",
       "2021-09-30  MA0000000050         ISIN         XCAS    MASI    MAD  13 197,28   \n",
       "2021-01-10  MA0000000050         ISIN         XCAS    MASI    MAD  13 186,82   \n",
       "\n",
       "            Plus haut   Plus bas      Prix  \n",
       "Date                                        \n",
       "2016-04-01   8 931,24   8 868,95   8888.04  \n",
       "2016-05-01   8 889,92   8 823,19   8837.81  \n",
       "2016-06-01   8 847,21   8 817,81   8842.12  \n",
       "2016-07-01   8 856,69   8 823,62   8856.09  \n",
       "2016-08-01   8 843,64   8 820,90   8836.93  \n",
       "...               ...        ...       ...  \n",
       "2021-09-27  13 168,00  13 073,01  13122.02  \n",
       "2021-09-28  13 169,39  13 092,35  13169.39  \n",
       "2021-09-29  13 209,65  13 169,34  13197.28  \n",
       "2021-09-30  13 203,02  13 141,87  13186.82  \n",
       "2021-01-10  13 186,82  13 085,31  13105.71  \n",
       "\n",
       "[1430 rows x 9 columns]"
      ]
     },
     "execution_count": 9,
     "metadata": {},
     "output_type": "execute_result"
    }
   ],
   "source": [
    "MASI"
   ]
  },
  {
   "cell_type": "code",
   "execution_count": 10,
   "id": "a0088c79",
   "metadata": {},
   "outputs": [],
   "source": [
    "Close=MASI['Prix']"
   ]
  },
  {
   "cell_type": "markdown",
   "id": "6fa94e21",
   "metadata": {},
   "source": [
    "## Evolution du cours de fermeture du MASI"
   ]
  },
  {
   "cell_type": "code",
   "execution_count": 11,
   "id": "dff0d12d",
   "metadata": {},
   "outputs": [
    {
     "data": {
      "text/plain": [
       "<matplotlib.legend.Legend at 0x21c5c5d9400>"
      ]
     },
     "execution_count": 11,
     "metadata": {},
     "output_type": "execute_result"
    },
    {
     "data": {
      "image/png": "[encoded data removed]",
      "text/plain": [
       "<Figure size 720x576 with 1 Axes>"
      ]
     },
     "metadata": {
      "needs_background": "light"
     },
     "output_type": "display_data"
    }
   ],
   "source": [
    "Close.plot(color='darkblue', label='Cours de fermeture', ylabel=\"Fermeture\", xlabel=\"Date\")\n",
    "plt.legend(loc=1)"
   ]
  },
  {
   "cell_type": "markdown",
   "id": "ddccf73e",
   "metadata": {},
   "source": [
    "## Log-rendement du MASI "
   ]
  },
  {
   "cell_type": "markdown",
   "id": "98892b3b",
   "metadata": {},
   "source": [
    "On note $V_t$ le cours de fermeture du MASI à l'instant $t$. Le rendement simple entre $t$ et $t+1$ est alors $$R_{t|t+1}=\\frac{V_{t+1}-V_{t}}{V_{t}}$$ \n",
    "Le log rendement est donné par $$r_{t|t+1}=ln(1+R_{t|t+1})$$"
   ]
  },
  {
   "cell_type": "code",
   "execution_count": 12,
   "id": "2aade71e",
   "metadata": {},
   "outputs": [
    {
     "data": {
      "text/plain": [
       "Date\n",
       "2016-05-01   -0.005667\n",
       "2016-06-01    0.000488\n",
       "2016-07-01    0.001579\n",
       "2016-08-01   -0.002166\n",
       "2016-12-01   -0.000908\n",
       "                ...   \n",
       "2021-09-27   -0.000751\n",
       "2021-09-28    0.003603\n",
       "2021-09-29    0.002116\n",
       "2021-09-30   -0.000793\n",
       "2021-01-10   -0.006170\n",
       "Name: Prix, Length: 1429, dtype: float64"
      ]
     },
     "execution_count": 12,
     "metadata": {},
     "output_type": "execute_result"
    }
   ],
   "source": [
    "logreturn=np.log(1+Close.pct_change()).dropna()\n",
    "logreturn "
   ]
  },
  {
   "cell_type": "markdown",
   "id": "1e49530e",
   "metadata": {},
   "source": [
    "### Evolution des log-rendements"
   ]
  },
  {
   "cell_type": "code",
   "execution_count": 13,
   "id": "9491bc35",
   "metadata": {},
   "outputs": [
    {
     "data": {
      "text/plain": [
       "<matplotlib.legend.Legend at 0x21c5cea7190>"
      ]
     },
     "execution_count": 13,
     "metadata": {},
     "output_type": "execute_result"
    },
    {
     "data": {
      "image/png": "[encoded data removed]",
      "text/plain": [
       "<Figure size 720x576 with 1 Axes>"
      ]
     },
     "metadata": {
      "needs_background": "light"
     },
     "output_type": "display_data"
    }
   ],
   "source": [
    "logreturn.plot(color='darkblue',label='log-rendements',ylabel=r'$\\mathbf{r_{t}}$',xlabel='Date')\n",
    "plt.legend(loc=1)"
   ]
  },
  {
   "cell_type": "markdown",
   "id": "ccee0d01",
   "metadata": {},
   "source": [
    "### Analyse descriptive des données"
   ]
  },
  {
   "cell_type": "code",
   "execution_count": 14,
   "id": "37739979",
   "metadata": {},
   "outputs": [
    {
     "data": {
      "text/plain": [
       "count    1429.000000\n",
       "mean        0.000272\n",
       "std         0.007400\n",
       "min        -0.092317\n",
       "25%        -0.002757\n",
       "50%         0.000284\n",
       "75%         0.003453\n",
       "max         0.053054\n",
       "Name: Prix, dtype: float64"
      ]
     },
     "execution_count": 14,
     "metadata": {},
     "output_type": "execute_result"
    }
   ],
   "source": [
    "logreturn.describe()"
   ]
  },
  {
   "cell_type": "markdown",
   "id": "e5aea8f4",
   "metadata": {},
   "source": [
    "#### Coefficient d'asymétrie"
   ]
  },
  {
   "cell_type": "markdown",
   "id": "c7e895bf",
   "metadata": {},
   "source": [
    "La distribution des log-rendements est plus étalée à gauche"
   ]
  },
  {
   "cell_type": "code",
   "execution_count": 15,
   "id": "18556bf0",
   "metadata": {},
   "outputs": [
    {
     "data": {
      "text/plain": [
       "-1.8567405465205074"
      ]
     },
     "execution_count": 15,
     "metadata": {},
     "output_type": "execute_result"
    }
   ],
   "source": [
    "stats.skew(logreturn)"
   ]
  },
  {
   "cell_type": "markdown",
   "id": "349fe69a",
   "metadata": {},
   "source": [
    "#### Coefficient d'applatissement"
   ]
  },
  {
   "cell_type": "markdown",
   "id": "9543b0e7",
   "metadata": {},
   "source": [
    "La distribution des log-rendements est leptokurtique"
   ]
  },
  {
   "cell_type": "code",
   "execution_count": 16,
   "id": "c74e4dc5",
   "metadata": {},
   "outputs": [
    {
     "data": {
      "text/plain": [
       "29.28924284721211"
      ]
     },
     "execution_count": 16,
     "metadata": {},
     "output_type": "execute_result"
    }
   ],
   "source": [
    "stats.kurtosis(logreturn)"
   ]
  },
  {
   "cell_type": "code",
   "execution_count": 17,
   "id": "32daa6a7",
   "metadata": {},
   "outputs": [
    {
     "data": {
      "text/plain": [
       "26.28924284721211"
      ]
     },
     "execution_count": 17,
     "metadata": {},
     "output_type": "execute_result"
    }
   ],
   "source": [
    "stats.kurtosis(logreturn)-3"
   ]
  },
  {
   "cell_type": "markdown",
   "id": "4f612089",
   "metadata": {},
   "source": [
    "### Normalité des log-rendements"
   ]
  },
  {
   "cell_type": "code",
   "execution_count": 18,
   "id": "c70d984b",
   "metadata": {},
   "outputs": [
    {
     "data": {
      "text/plain": [
       "<matplotlib.legend.Legend at 0x21c5cf2ea00>"
      ]
     },
     "execution_count": 18,
     "metadata": {},
     "output_type": "execute_result"
    },
    {
     "data": {
      "image/png": "[encoded data removed]",
      "text/plain": [
       "<Figure size 720x576 with 1 Axes>"
      ]
     },
     "metadata": {
      "needs_background": "light"
     },
     "output_type": "display_data"
    }
   ],
   "source": [
    "logreturn.plot(kind=\"kde\", color=\"darkblue\", label=\"Densité enmpirique des log-rendements\")\n",
    "x = np.linspace(-0.2, 0.2, len(logreturn))\n",
    "plt.plot(x, stats.norm.pdf(x, logreturn.mean(), logreturn.std()), color='darkred', label=\"Densité normale\")\n",
    "plt.legend(loc=2)"
   ]
  },
  {
   "cell_type": "code",
   "execution_count": 19,
   "id": "cdfc33af",
   "metadata": {},
   "outputs": [
    {
     "data": {
      "text/plain": [
       "(-5.0, 5.0)"
      ]
     },
     "execution_count": 19,
     "metadata": {},
     "output_type": "execute_result"
    },
    {
     "data": {
      "image/png": "[encoded data removed]",
      "text/plain": [
       "<Figure size 720x576 with 1 Axes>"
      ]
     },
     "metadata": {
      "needs_background": "light"
     },
     "output_type": "display_data"
    }
   ],
   "source": [
    "prob = sm.ProbPlot(logreturn, fit=True)\n",
    "qq = prob.qqplot(marker='+', color='darkblue', alpha=0.5)\n",
    "sm.qqline(qq.axes[0], line='45', color='darkred', linestyle='dashed')\n",
    "plt.xlim((-5,5))"
   ]
  },
  {
   "cell_type": "markdown",
   "id": "2a8d4071",
   "metadata": {},
   "source": [
    "La distribution des log rendement n'est apparement pas normale. Les tests d'hypothèse ci après (Shapiro-Wilk, Jarque-Bera, Kolmogorov-Smirnov) confirment ce constat. "
   ]
  },
  {
   "cell_type": "code",
   "execution_count": 20,
   "id": "4198351d",
   "metadata": {},
   "outputs": [
    {
     "data": {
      "text/plain": [
       "ShapiroResult(statistic=0.8111395835876465, pvalue=6.035626222430837e-38)"
      ]
     },
     "execution_count": 20,
     "metadata": {},
     "output_type": "execute_result"
    }
   ],
   "source": [
    "stats.shapiro(logreturn)"
   ]
  },
  {
   "cell_type": "code",
   "execution_count": 21,
   "id": "28d9dbcd",
   "metadata": {},
   "outputs": [
    {
     "data": {
      "text/plain": [
       "Jarque_beraResult(statistic=51899.47519630094, pvalue=0.0)"
      ]
     },
     "execution_count": 21,
     "metadata": {},
     "output_type": "execute_result"
    }
   ],
   "source": [
    "stats.jarque_bera(logreturn)"
   ]
  },
  {
   "cell_type": "code",
   "execution_count": 22,
   "id": "0c3d3fc2",
   "metadata": {},
   "outputs": [
    {
     "data": {
      "text/plain": [
       "KstestResult(statistic=0.48606175874913, pvalue=1.6763719853466e-311)"
      ]
     },
     "execution_count": 22,
     "metadata": {},
     "output_type": "execute_result"
    }
   ],
   "source": [
    "stats.kstest(logreturn, 'norm')"
   ]
  },
  {
   "cell_type": "markdown",
   "id": "c8fb2b21",
   "metadata": {},
   "source": [
    "### Test de stationnarité"
   ]
  },
  {
   "cell_type": "markdown",
   "id": "9179c9f4",
   "metadata": {},
   "source": [
    "On teste la stationnarité (au sens large) de la série des log-rendements. Pour ce faire, on utilise le test de Dickey-Fuller augmenté(ADF).\n",
    "\n",
    "Soit $(r_t)_{t\\in \\mathbb{N}}$ une série temporelle, Les trois modèles utilisés pour développer le test ADF sont les suivants:\n",
    "\n",
    "Modèle 3: $\\Delta r_t =\\alpha +\\beta t+ \\phi r_{t-1} +\\sum_{i=1}^{p}\\phi_i \\Delta r_{t-i} + e_t$, On teste $\\alpha=0, \\beta=0, \\phi=0$\n",
    "\n",
    "Modèle 2: $\\Delta r_t =\\alpha + \\phi r_{t-1} +\\sum_{i=1}^{p}\\phi_i \\Delta r_{t-i} + e_t$, On teste $\\alpha=0, \\phi=0$\n",
    "\n",
    "Modèle 1: $\\Delta r_t =\\phi r_{t-1} +\\sum_{i=1}^{p}\\phi_i \\Delta r_{t-i} + e_t$, On teste $\\phi=0$\n"
   ]
  },
  {
   "cell_type": "code",
   "execution_count": 23,
   "id": "98166dd6",
   "metadata": {},
   "outputs": [
    {
     "name": "stdout",
     "output_type": "stream",
     "text": [
      "   Augmented Dickey-Fuller Results   \n",
      "=====================================\n",
      "Test Statistic                -11.386\n",
      "P-value                         0.000\n",
      "Lags                                8\n",
      "-------------------------------------\n",
      "\n",
      "Trend: Constant and Linear Time Trend\n",
      "Critical Values: -3.97 (1%), -3.41 (5%), -3.13 (10%)\n",
      "Null Hypothesis: The process contains a unit root.\n",
      "Alternative Hypothesis: The process is weakly stationary. \n",
      "\n",
      "   Augmented Dickey-Fuller Results   \n",
      "=====================================\n",
      "Test Statistic                -11.381\n",
      "P-value                         0.000\n",
      "Lags                                8\n",
      "-------------------------------------\n",
      "\n",
      "Trend: Constant\n",
      "Critical Values: -3.43 (1%), -2.86 (5%), -2.57 (10%)\n",
      "Null Hypothesis: The process contains a unit root.\n",
      "Alternative Hypothesis: The process is weakly stationary. \n",
      "\n",
      "   Augmented Dickey-Fuller Results   \n",
      "=====================================\n",
      "Test Statistic                 -9.164\n",
      "P-value                         0.000\n",
      "Lags                               12\n",
      "-------------------------------------\n",
      "\n",
      "Trend: No Trend\n",
      "Critical Values: -2.57 (1%), -1.94 (5%), -1.62 (10%)\n",
      "Null Hypothesis: The process contains a unit root.\n",
      "Alternative Hypothesis: The process is weakly stationary. \n",
      "\n"
     ]
    }
   ],
   "source": [
    "from arch.unitroot import ADF\n",
    "#Constant and Linear Time Trend\n",
    "adf1=ADF(logreturn,method='aic', trend='ct')\n",
    "print(adf1,'\\n')\n",
    "#Constant\n",
    "adf2=ADF(logreturn,method='aic', trend='c')\n",
    "print(adf2,'\\n')\n",
    "#No Trend\n",
    "adf3=ADF(logreturn,method='aic', trend='n')\n",
    "print(adf3,'\\n')"
   ]
  },
  {
   "cell_type": "markdown",
   "id": "c474f8ae",
   "metadata": {},
   "source": [
    "D'après le test ADF la série des log-rendements est stationnaire au sens large au seuil de 5%"
   ]
  },
  {
   "cell_type": "markdown",
   "id": "9f9f5e68",
   "metadata": {},
   "source": [
    "### ACF/PACF"
   ]
  },
  {
   "cell_type": "markdown",
   "id": "615641b3",
   "metadata": {},
   "source": [
    "Soit $(r_t)_{t\\in \\mathbb{N}}$ une série temporelle, la fonction d'autocorrelation est définie comme suit \n",
    "\n",
    "$\\rho: \\mathbb{N} \\rightarrow [-1,1]$\n",
    "\n",
    "$k\\mapsto Corr(r_t,r_{t+k})$\n",
    "\n",
    "En considérant $(r_t)_{1,2\\dots,T}$, l'estimation de la fonction d'autoccorélation est: $\\forall k \\in (1,\\dots,T)$\n",
    "$$\\hat \\rho(k) =\\frac{\\frac{1}{T-k} \\sum_{t=1}^{T-k}(r_t-\\bar r_T)(r_{t-k}-\\bar r_T)}{\\frac{1}{T}\\sum_{t=1}^{T}(r_t-\\bar r_T)^2}$$"
   ]
  },
  {
   "cell_type": "code",
   "execution_count": 24,
   "id": "8085abd4",
   "metadata": {},
   "outputs": [
    {
     "data": {
      "text/plain": [
       "Text(0.5, 1.0, 'PACF')"
      ]
     },
     "execution_count": 24,
     "metadata": {},
     "output_type": "execute_result"
    },
    {
     "data": {
      "image/png": "[encoded data removed]",
      "text/plain": [
       "<Figure size 720x576 with 2 Axes>"
      ]
     },
     "metadata": {
      "needs_background": "light"
     },
     "output_type": "display_data"
    }
   ],
   "source": [
    "fig, ax = plt.subplots(2)\n",
    "smt.graphics.plot_acf(logreturn, ax=ax[0], color='blue')\n",
    "smt.graphics.plot_pacf(logreturn, ax=ax[1], color='blue')\n",
    "ax[0].set_title('ACF',fontdict={'weight':'bold'})\n",
    "ax[1].set_title('PACF',fontdict={'weight':'bold'})"
   ]
  },
  {
   "cell_type": "markdown",
   "id": "76bb5e17",
   "metadata": {},
   "source": [
    "### Test de ljung-Box"
   ]
  },
  {
   "cell_type": "markdown",
   "id": "874dc199",
   "metadata": {},
   "source": [
    "Soit $(e_t)_{t \\in \\{1,\\dots,T\\}} $, le test de ljung-Box teste les hypothèses suivantes:\n",
    "$$(H_0): \\rho(1)=\\dots=\\rho(k)=0$$\n",
    "$$(H_1): \\exists i \\in (1,\\dots,k): \\rho(i)\\neq 0$$\n",
    "La statistique du test est \n",
    "$$Q(k)=T(T+2)\\sum_{i=1}^{k}\\frac{\\hat \\rho^2_i}{T-i}$$\n",
    "Asymptotiquement, et sous $H_0$: \n",
    "$$Q(k) \\sim \\chi_k^2$$"
   ]
  },
  {
   "cell_type": "code",
   "execution_count": 25,
   "id": "4a42895c",
   "metadata": {},
   "outputs": [
    {
     "data": {
      "text/html": [
       "<div>\n",
       "<style scoped>\n",
       "    .dataframe tbody tr th:only-of-type {\n",
       "        vertical-align: middle;\n",
       "    }\n",
       "\n",
       "    .dataframe tbody tr th {\n",
       "        vertical-align: top;\n",
       "    }\n",
       "\n",
       "    .dataframe thead th {\n",
       "        text-align: right;\n",
       "    }\n",
       "</style>\n",
       "<table border=\"1\" class=\"dataframe\">\n",
       "  <thead>\n",
       "    <tr style=\"text-align: right;\">\n",
       "      <th></th>\n",
       "      <th>lb_stat</th>\n",
       "      <th>lb_pvalue</th>\n",
       "    </tr>\n",
       "  </thead>\n",
       "  <tbody>\n",
       "    <tr>\n",
       "      <th>1</th>\n",
       "      <td>46.050036</td>\n",
       "      <td>1.152710e-11</td>\n",
       "    </tr>\n",
       "    <tr>\n",
       "      <th>2</th>\n",
       "      <td>54.118003</td>\n",
       "      <td>1.771842e-12</td>\n",
       "    </tr>\n",
       "    <tr>\n",
       "      <th>3</th>\n",
       "      <td>54.649344</td>\n",
       "      <td>8.156761e-12</td>\n",
       "    </tr>\n",
       "    <tr>\n",
       "      <th>4</th>\n",
       "      <td>59.992944</td>\n",
       "      <td>2.910784e-12</td>\n",
       "    </tr>\n",
       "    <tr>\n",
       "      <th>5</th>\n",
       "      <td>60.025260</td>\n",
       "      <td>1.200935e-11</td>\n",
       "    </tr>\n",
       "    <tr>\n",
       "      <th>6</th>\n",
       "      <td>60.649797</td>\n",
       "      <td>3.320899e-11</td>\n",
       "    </tr>\n",
       "    <tr>\n",
       "      <th>7</th>\n",
       "      <td>67.985463</td>\n",
       "      <td>3.768630e-12</td>\n",
       "    </tr>\n",
       "    <tr>\n",
       "      <th>8</th>\n",
       "      <td>68.276145</td>\n",
       "      <td>1.082131e-11</td>\n",
       "    </tr>\n",
       "  </tbody>\n",
       "</table>\n",
       "</div>"
      ],
      "text/plain": [
       "     lb_stat     lb_pvalue\n",
       "1  46.050036  1.152710e-11\n",
       "2  54.118003  1.771842e-12\n",
       "3  54.649344  8.156761e-12\n",
       "4  59.992944  2.910784e-12\n",
       "5  60.025260  1.200935e-11\n",
       "6  60.649797  3.320899e-11\n",
       "7  67.985463  3.768630e-12\n",
       "8  68.276145  1.082131e-11"
      ]
     },
     "execution_count": 25,
     "metadata": {},
     "output_type": "execute_result"
    }
   ],
   "source": [
    "from statsmodels.stats.diagnostic import acorr_ljungbox\n",
    "lj=acorr_ljungbox(logreturn,lags=8,return_df=True)\n",
    "lj"
   ]
  },
  {
   "cell_type": "markdown",
   "id": "89a9f406",
   "metadata": {},
   "source": [
    "Le test affirme que la série des log de rendements n'est pas la réalisation d'un bruit blanc"
   ]
  },
  {
   "cell_type": "markdown",
   "id": "91393b1a",
   "metadata": {},
   "source": [
    "# Modélisation de la série des log rendements à l'aide des modèles ARIMA, GARCH"
   ]
  },
  {
   "cell_type": "markdown",
   "id": "ef5c004e",
   "metadata": {},
   "source": [
    "### Modèles linéaires ARIMA"
   ]
  },
  {
   "cell_type": "markdown",
   "id": "f805e3c0",
   "metadata": {},
   "source": [
    "un processus $(r_t)_{t}$ est un processus ARIMA(p,d,q), s'il vérifie la relation suivante\n",
    "$$(\\mathbb{1}-B)^dr_t=\\sum_{i=1}^{p}\\phi_i r_{t-i} + e_t+\\sum_{i=1}^{q}\\theta_i e_{t-i}$$\n",
    "avec $\\phi_p$ et $\\theta_q$ sont non nuls, et les racines des polynomes AR et MA sont de module strictement supérieur à 1"
   ]
  },
  {
   "cell_type": "code",
   "execution_count": 26,
   "id": "b4ff602e",
   "metadata": {},
   "outputs": [],
   "source": [
    "meanmdl=pmd.auto_arima(logreturn)"
   ]
  },
  {
   "cell_type": "code",
   "execution_count": 27,
   "id": "8a3336d3",
   "metadata": {},
   "outputs": [
    {
     "data": {
      "text/html": [
       "<table class=\"simpletable\">\n",
       "<caption>SARIMAX Results</caption>\n",
       "<tr>\n",
       "  <th>Dep. Variable:</th>           <td>y</td>        <th>  No. Observations:  </th>    <td>1429</td>   \n",
       "</tr>\n",
       "<tr>\n",
       "  <th>Model:</th>           <td>SARIMAX(2, 0, 0)</td> <th>  Log Likelihood     </th>  <td>5008.034</td> \n",
       "</tr>\n",
       "<tr>\n",
       "  <th>Date:</th>            <td>Wed, 20 Oct 2021</td> <th>  AIC                </th> <td>-10010.068</td>\n",
       "</tr>\n",
       "<tr>\n",
       "  <th>Time:</th>                <td>21:36:54</td>     <th>  BIC                </th>  <td>-9994.274</td>\n",
       "</tr>\n",
       "<tr>\n",
       "  <th>Sample:</th>                  <td>0</td>        <th>  HQIC               </th> <td>-10004.170</td>\n",
       "</tr>\n",
       "<tr>\n",
       "  <th></th>                      <td> - 1429</td>     <th>                     </th>      <td> </td>    \n",
       "</tr>\n",
       "<tr>\n",
       "  <th>Covariance Type:</th>        <td>opg</td>       <th>                     </th>      <td> </td>    \n",
       "</tr>\n",
       "</table>\n",
       "<table class=\"simpletable\">\n",
       "<tr>\n",
       "     <td></td>       <th>coef</th>     <th>std err</th>      <th>z</th>      <th>P>|z|</th>  <th>[0.025</th>    <th>0.975]</th>  \n",
       "</tr>\n",
       "<tr>\n",
       "  <th>ar.L1</th>  <td>    0.1725</td> <td>    0.010</td> <td>   16.788</td> <td> 0.000</td> <td>    0.152</td> <td>    0.193</td>\n",
       "</tr>\n",
       "<tr>\n",
       "  <th>ar.L2</th>  <td>    0.0452</td> <td>    0.007</td> <td>    6.501</td> <td> 0.000</td> <td>    0.032</td> <td>    0.059</td>\n",
       "</tr>\n",
       "<tr>\n",
       "  <th>sigma2</th> <td>  5.29e-05</td> <td> 5.18e-07</td> <td>  102.183</td> <td> 0.000</td> <td> 5.19e-05</td> <td> 5.39e-05</td>\n",
       "</tr>\n",
       "</table>\n",
       "<table class=\"simpletable\">\n",
       "<tr>\n",
       "  <th>Ljung-Box (L1) (Q):</th>     <td>0.00</td> <th>  Jarque-Bera (JB):  </th> <td>52596.33</td>\n",
       "</tr>\n",
       "<tr>\n",
       "  <th>Prob(Q):</th>                <td>0.97</td> <th>  Prob(JB):          </th>   <td>0.00</td>  \n",
       "</tr>\n",
       "<tr>\n",
       "  <th>Heteroskedasticity (H):</th> <td>2.32</td> <th>  Skew:              </th>   <td>-1.51</td> \n",
       "</tr>\n",
       "<tr>\n",
       "  <th>Prob(H) (two-sided):</th>    <td>0.00</td> <th>  Kurtosis:          </th>   <td>32.57</td> \n",
       "</tr>\n",
       "</table><br/><br/>Warnings:<br/>[1] Covariance matrix calculated using the outer product of gradients (complex-step)."
      ],
      "text/plain": [
       "<class 'statsmodels.iolib.summary.Summary'>\n",
       "\"\"\"\n",
       "                               SARIMAX Results                                \n",
       "==============================================================================\n",
       "Dep. Variable:                      y   No. Observations:                 1429\n",
       "Model:               SARIMAX(2, 0, 0)   Log Likelihood                5008.034\n",
       "Date:                Wed, 20 Oct 2021   AIC                         -10010.068\n",
       "Time:                        21:36:54   BIC                          -9994.274\n",
       "Sample:                             0   HQIC                        -10004.170\n",
       "                               - 1429                                         \n",
       "Covariance Type:                  opg                                         \n",
       "==============================================================================\n",
       "                 coef    std err          z      P>|z|      [0.025      0.975]\n",
       "------------------------------------------------------------------------------\n",
       "ar.L1          0.1725      0.010     16.788      0.000       0.152       0.193\n",
       "ar.L2          0.0452      0.007      6.501      0.000       0.032       0.059\n",
       "sigma2       5.29e-05   5.18e-07    102.183      0.000    5.19e-05    5.39e-05\n",
       "===================================================================================\n",
       "Ljung-Box (L1) (Q):                   0.00   Jarque-Bera (JB):             52596.33\n",
       "Prob(Q):                              0.97   Prob(JB):                         0.00\n",
       "Heteroskedasticity (H):               2.32   Skew:                            -1.51\n",
       "Prob(H) (two-sided):                  0.00   Kurtosis:                        32.57\n",
       "===================================================================================\n",
       "\n",
       "Warnings:\n",
       "[1] Covariance matrix calculated using the outer product of gradients (complex-step).\n",
       "\"\"\""
      ]
     },
     "execution_count": 27,
     "metadata": {},
     "output_type": "execute_result"
    }
   ],
   "source": [
    "meanmdl.summary()"
   ]
  },
  {
   "cell_type": "markdown",
   "id": "77045a55",
   "metadata": {},
   "source": [
    "On retient le modèle AR(2) pour modéliser la partie esperance série des log rendements (mean model)"
   ]
  },
  {
   "cell_type": "markdown",
   "id": "a7eca46a",
   "metadata": {},
   "source": [
    "### Analyse des résidus"
   ]
  },
  {
   "cell_type": "code",
   "execution_count": 28,
   "id": "1f9beb11",
   "metadata": {},
   "outputs": [],
   "source": [
    "residuals=pd.Series(meanmdl.resid(),index=logreturn.index)"
   ]
  },
  {
   "cell_type": "markdown",
   "id": "703f8a00",
   "metadata": {},
   "source": [
    "#### ACF/PACF"
   ]
  },
  {
   "cell_type": "code",
   "execution_count": 29,
   "id": "899654d5",
   "metadata": {},
   "outputs": [
    {
     "data": {
      "text/plain": [
       "Text(0.5, 1.0, 'PACF')"
      ]
     },
     "execution_count": 29,
     "metadata": {},
     "output_type": "execute_result"
    },
    {
     "data": {
      "image/png": "[encoded data removed]",
      "text/plain": [
       "<Figure size 720x576 with 2 Axes>"
      ]
     },
     "metadata": {
      "needs_background": "light"
     },
     "output_type": "display_data"
    }
   ],
   "source": [
    "fig, ax = plt.subplots(2)\n",
    "smt.graphics.plot_acf(residuals, ax=ax[0], color='blue',vlines_kwargs={'linewidth':3,'color':'blue'})\n",
    "smt.graphics.plot_pacf(residuals, ax=ax[1], color='blue', vlines_kwargs={'linewidth':3,'color':'blue'})\n",
    "ax[0].set_title('ACF',fontdict={'weight':'bold'})\n",
    "ax[1].set_title('PACF',fontdict={'weight':'bold'})"
   ]
  },
  {
   "cell_type": "markdown",
   "id": "a858ebd0",
   "metadata": {},
   "source": [
    "#### Test de ljung-Box"
   ]
  },
  {
   "cell_type": "code",
   "execution_count": 30,
   "id": "9d74d456",
   "metadata": {},
   "outputs": [
    {
     "data": {
      "text/html": [
       "<div>\n",
       "<style scoped>\n",
       "    .dataframe tbody tr th:only-of-type {\n",
       "        vertical-align: middle;\n",
       "    }\n",
       "\n",
       "    .dataframe tbody tr th {\n",
       "        vertical-align: top;\n",
       "    }\n",
       "\n",
       "    .dataframe thead th {\n",
       "        text-align: right;\n",
       "    }\n",
       "</style>\n",
       "<table border=\"1\" class=\"dataframe\">\n",
       "  <thead>\n",
       "    <tr style=\"text-align: right;\">\n",
       "      <th></th>\n",
       "      <th>lb_stat</th>\n",
       "      <th>lb_pvalue</th>\n",
       "    </tr>\n",
       "  </thead>\n",
       "  <tbody>\n",
       "    <tr>\n",
       "      <th>1</th>\n",
       "      <td>0.001315</td>\n",
       "      <td>0.971075</td>\n",
       "    </tr>\n",
       "    <tr>\n",
       "      <th>2</th>\n",
       "      <td>0.009402</td>\n",
       "      <td>0.995310</td>\n",
       "    </tr>\n",
       "    <tr>\n",
       "      <th>3</th>\n",
       "      <td>0.139849</td>\n",
       "      <td>0.986660</td>\n",
       "    </tr>\n",
       "    <tr>\n",
       "      <th>4</th>\n",
       "      <td>7.551740</td>\n",
       "      <td>0.109449</td>\n",
       "    </tr>\n",
       "    <tr>\n",
       "      <th>5</th>\n",
       "      <td>7.866383</td>\n",
       "      <td>0.163755</td>\n",
       "    </tr>\n",
       "    <tr>\n",
       "      <th>6</th>\n",
       "      <td>9.316162</td>\n",
       "      <td>0.156562</td>\n",
       "    </tr>\n",
       "  </tbody>\n",
       "</table>\n",
       "</div>"
      ],
      "text/plain": [
       "    lb_stat  lb_pvalue\n",
       "1  0.001315   0.971075\n",
       "2  0.009402   0.995310\n",
       "3  0.139849   0.986660\n",
       "4  7.551740   0.109449\n",
       "5  7.866383   0.163755\n",
       "6  9.316162   0.156562"
      ]
     },
     "execution_count": 30,
     "metadata": {},
     "output_type": "execute_result"
    }
   ],
   "source": [
    "acorr_ljungbox(residuals, lags=6, return_df=True)"
   ]
  },
  {
   "cell_type": "markdown",
   "id": "baabf02d",
   "metadata": {},
   "source": [
    "Les résidus du mean model sont les réalisations d'un bruit blanc"
   ]
  },
  {
   "cell_type": "markdown",
   "id": "399d1c05",
   "metadata": {},
   "source": [
    "Le carré des résidus montrent une $Serial$ $dependence$"
   ]
  },
  {
   "cell_type": "code",
   "execution_count": 31,
   "id": "74386a18",
   "metadata": {},
   "outputs": [
    {
     "data": {
      "text/plain": [
       "Text(0.5, 1.0, 'PACF')"
      ]
     },
     "execution_count": 31,
     "metadata": {},
     "output_type": "execute_result"
    },
    {
     "data": {
      "image/png": "[encoded data removed]",
      "text/plain": [
       "<Figure size 720x576 with 2 Axes>"
      ]
     },
     "metadata": {
      "needs_background": "light"
     },
     "output_type": "display_data"
    }
   ],
   "source": [
    "fig, ax = plt.subplots(2)\n",
    "smt.graphics.plot_acf(residuals**2, ax=ax[0], color='blue',vlines_kwargs={'linewidth':3,'color':'blue'})\n",
    "smt.graphics.plot_pacf(residuals**2, ax=ax[1], color='blue', vlines_kwargs={'linewidth':3,'color':'blue'})\n",
    "ax[0].set_title('ACF',fontdict={'weight':'bold'})\n",
    "ax[1].set_title('PACF',fontdict={'weight':'bold'})"
   ]
  },
  {
   "cell_type": "markdown",
   "id": "c3d2ecf0",
   "metadata": {},
   "source": [
    "### Modèles GARCH"
   ]
  },
  {
   "cell_type": "markdown",
   "id": "38a00b99",
   "metadata": {},
   "source": [
    "Un processus $(e_t)$ est une processus GARCH(p,q) fort s'il s'écrit de la manière suivante\n",
    "\n",
    "$$e_t=\\eta_t \\sigma_t$$\n",
    "\n",
    "$$\\sigma_t^2=\\omega+\\sum_{i=1}^{p}\\alpha_i e_{t-i}^2+\\sum_{i=1}^{q}\\beta_i \\sigma_{t-i}^2$$\n",
    "\n",
    "avec $\\omega>0$ et $\\alpha_i,\\beta_i>0$\n",
    "\n",
    "$(\\eta_t)_t$ est une bruit blanc fort (0,1)\n",
    "\n",
    "$\\sigma_t^2=Var(e_t\\ | \\ \\mathcal{F}_{t-1})$, $(\\mathcal{F}_{t})_t$ est la filtration canonique associée au processus $(e_t)_t$"
   ]
  },
  {
   "cell_type": "markdown",
   "id": "b32089e5",
   "metadata": {},
   "source": [
    "#### Test des effets ARCH"
   ]
  },
  {
   "cell_type": "markdown",
   "id": "d3913daa",
   "metadata": {},
   "source": [
    "Soit $(e_t)_{t\\in (1,\\dots,T)}$ qu'on suppose un ARCH(p). Le test des effets Arch teste\n",
    "$$(H_0): \\alpha_1=\\dots=\\alpha_p=0$$\n",
    "La statistique du test suit asymptotiquement, sous $H_0$ la loi $\\chi_p^2$"
   ]
  },
  {
   "cell_type": "code",
   "execution_count": 32,
   "id": "98f8a0b1",
   "metadata": {},
   "outputs": [
    {
     "data": {
      "text/html": [
       "<div>\n",
       "<style scoped>\n",
       "    .dataframe tbody tr th:only-of-type {\n",
       "        vertical-align: middle;\n",
       "    }\n",
       "\n",
       "    .dataframe tbody tr th {\n",
       "        vertical-align: top;\n",
       "    }\n",
       "\n",
       "    .dataframe thead th {\n",
       "        text-align: right;\n",
       "    }\n",
       "</style>\n",
       "<table border=\"1\" class=\"dataframe\">\n",
       "  <thead>\n",
       "    <tr style=\"text-align: right;\">\n",
       "      <th></th>\n",
       "      <th>0</th>\n",
       "    </tr>\n",
       "  </thead>\n",
       "  <tbody>\n",
       "    <tr>\n",
       "      <th>LM-stat</th>\n",
       "      <td>6.021164e+02</td>\n",
       "    </tr>\n",
       "    <tr>\n",
       "      <th>LM p-value</th>\n",
       "      <td>8.554640e-112</td>\n",
       "    </tr>\n",
       "    <tr>\n",
       "      <th>F-stat</th>\n",
       "      <td>4.312168e+01</td>\n",
       "    </tr>\n",
       "    <tr>\n",
       "      <th>F p-value</th>\n",
       "      <td>8.759458e-149</td>\n",
       "    </tr>\n",
       "  </tbody>\n",
       "</table>\n",
       "</div>"
      ],
      "text/plain": [
       "                        0\n",
       "LM-stat      6.021164e+02\n",
       "LM p-value  8.554640e-112\n",
       "F-stat       4.312168e+01\n",
       "F p-value   8.759458e-149"
      ]
     },
     "execution_count": 32,
     "metadata": {},
     "output_type": "execute_result"
    }
   ],
   "source": [
    "import warnings\n",
    "warnings.filterwarnings('ignore')\n",
    "from statsmodels.stats.diagnostic import het_arch\n",
    "test_arch=het_arch(residuals)\n",
    "name=[\"LM-stat\",\"LM p-value\", \"F-stat\", \"F p-value\"]\n",
    "pd.DataFrame(test_arch, index=name)"
   ]
  },
  {
   "cell_type": "markdown",
   "id": "16122c4d",
   "metadata": {},
   "source": [
    "D'après ce test il y a présence des effets ARCH dans les résidus du modèle AR(2) (au seuil de 5%)"
   ]
  },
  {
   "cell_type": "markdown",
   "id": "b4def8c5",
   "metadata": {},
   "source": [
    "#### Test de kolmogorov-Smirnov"
   ]
  },
  {
   "cell_type": "code",
   "execution_count": 33,
   "id": "765310cc",
   "metadata": {},
   "outputs": [
    {
     "data": {
      "text/plain": [
       "<matplotlib.legend.Legend at 0x21c60352760>"
      ]
     },
     "execution_count": 33,
     "metadata": {},
     "output_type": "execute_result"
    },
    {
     "data": {
      "image/png": "[encoded data removed]",
      "text/plain": [
       "<Figure size 720x576 with 1 Axes>"
      ]
     },
     "metadata": {
      "needs_background": "light"
     },
     "output_type": "display_data"
    }
   ],
   "source": [
    "residuals.plot(kind=\"kde\",color='darkblue',label='Densité empirique des résidus')\n",
    "x=np.linspace(-0.1,0.1,len(residuals))\n",
    "plt.plot(x,stats.norm.pdf(x,residuals.mean(),residuals.std()),color=\"darkred\",label=\"Densité de la loi normale\")\n",
    "plt.legend()"
   ]
  },
  {
   "cell_type": "markdown",
   "id": "261d72a6",
   "metadata": {},
   "source": [
    "Clairement la distribution des résidus du modèle n'est pas normale. on teste alors si la distribution des résidus est student. Pour se faire, on utilise le test de Kolmogorov-Smirnov.\n",
    "\n",
    "D'après le test la distribution des résidus est (au seuil de 5%) de loi de student à 3 degrés de liberté."
   ]
  },
  {
   "cell_type": "code",
   "execution_count": 34,
   "id": "33408a13",
   "metadata": {},
   "outputs": [
    {
     "data": {
      "text/plain": [
       "(KstestResult(statistic=0.011878248817145942, pvalue=0.9863376994615067),\n",
       " KstestResult(statistic=0.09553311303132739, pvalue=8.393549462798728e-12))"
      ]
     },
     "execution_count": 34,
     "metadata": {},
     "output_type": "execute_result"
    }
   ],
   "source": [
    "p = stats.t.fit(residuals)\n",
    "p1=stats.norm.fit(residuals)\n",
    "stats.kstest(residuals, 't', args=p), stats.kstest(residuals, 'norm', args=p1)"
   ]
  },
  {
   "cell_type": "code",
   "execution_count": 35,
   "id": "658468d2",
   "metadata": {},
   "outputs": [
    {
     "data": {
      "text/plain": [
       "(3.0769248202830415, 0.0002590106240349931, 0.004161542657667553)"
      ]
     },
     "execution_count": 35,
     "metadata": {},
     "output_type": "execute_result"
    }
   ],
   "source": [
    "p"
   ]
  },
  {
   "cell_type": "markdown",
   "id": "88d5d518",
   "metadata": {},
   "source": [
    "#### Modélisation des résidus à l'aide de modèle de GRACH"
   ]
  },
  {
   "cell_type": "code",
   "execution_count": 36,
   "id": "c7175b14",
   "metadata": {},
   "outputs": [
    {
     "name": "stdout",
     "output_type": "stream",
     "text": [
      "Iteration:      1,   Func. Count:      6,   Neg. LLF: 22644.439874161304\n",
      "Iteration:      2,   Func. Count:     13,   Neg. LLF: 2688.2590168201823\n",
      "Iteration:      3,   Func. Count:     19,   Neg. LLF: 2538.5911187313854\n",
      "Iteration:      4,   Func. Count:     26,   Neg. LLF: 2458.7889217251613\n",
      "Iteration:      5,   Func. Count:     32,   Neg. LLF: 2570.4325209905346\n",
      "Iteration:      6,   Func. Count:     39,   Neg. LLF: 1183.6058908426946\n",
      "Iteration:      7,   Func. Count:     45,   Neg. LLF: 1182.975389159828\n",
      "Iteration:      8,   Func. Count:     50,   Neg. LLF: 1182.97456486201\n",
      "Iteration:      9,   Func. Count:     55,   Neg. LLF: 1182.974524781647\n",
      "Iteration:     10,   Func. Count:     59,   Neg. LLF: 1182.974524781671\n",
      "Optimization terminated successfully    (Exit mode 0)\n",
      "            Current function value: 1182.974524781647\n",
      "            Iterations: 10\n",
      "            Function evaluations: 59\n",
      "            Gradient evaluations: 10\n"
     ]
    }
   ],
   "source": [
    "from arch.univariate import arch_model\n",
    "varmodel=arch_model(residuals, mean = 'Zero', vol=\"GARCH\", rescale=True, dist='studentst').fit()"
   ]
  },
  {
   "cell_type": "code",
   "execution_count": 37,
   "id": "8d2f967b",
   "metadata": {},
   "outputs": [
    {
     "data": {
      "text/html": [
       "<table class=\"simpletable\">\n",
       "<caption>Zero Mean - GARCH Model Results</caption>\n",
       "<tr>\n",
       "  <th>Dep. Variable:</th>           <td>None</td>           <th>  R-squared:         </th>  <td>   0.000</td> \n",
       "</tr>\n",
       "<tr>\n",
       "  <th>Mean Model:</th>            <td>Zero Mean</td>        <th>  Adj. R-squared:    </th>  <td>   0.001</td> \n",
       "</tr>\n",
       "<tr>\n",
       "  <th>Vol Model:</th>               <td>GARCH</td>          <th>  Log-Likelihood:    </th> <td>  -1182.97</td>\n",
       "</tr>\n",
       "<tr>\n",
       "  <th>Distribution:</th>  <td>Standardized Student's t</td> <th>  AIC:               </th> <td>   2373.95</td>\n",
       "</tr>\n",
       "<tr>\n",
       "  <th>Method:</th>           <td>Maximum Likelihood</td>    <th>  BIC:               </th> <td>   2395.01</td>\n",
       "</tr>\n",
       "<tr>\n",
       "  <th></th>                           <td></td>             <th>  No. Observations:  </th>    <td>1429</td>   \n",
       "</tr>\n",
       "<tr>\n",
       "  <th>Date:</th>              <td>Wed, Oct 20 2021</td>     <th>  Df Residuals:      </th>    <td>1429</td>   \n",
       "</tr>\n",
       "<tr>\n",
       "  <th>Time:</th>                  <td>21:37:23</td>         <th>  Df Model:          </th>      <td>0</td>    \n",
       "</tr>\n",
       "</table>\n",
       "<table class=\"simpletable\">\n",
       "<caption>Volatility Model</caption>\n",
       "<tr>\n",
       "      <td></td>        <th>coef</th>     <th>std err</th>      <th>t</th>       <th>P>|t|</th>     <th>95.0% Conf. Int.</th>   \n",
       "</tr>\n",
       "<tr>\n",
       "  <th>omega</th>    <td>    0.0482</td> <td>2.112e-02</td> <td>    2.281</td> <td>2.254e-02</td> <td>[6.782e-03,8.956e-02]</td>\n",
       "</tr>\n",
       "<tr>\n",
       "  <th>alpha[1]</th> <td>    0.1936</td> <td>6.412e-02</td> <td>    3.019</td> <td>2.534e-03</td>  <td>[6.793e-02,  0.319]</td> \n",
       "</tr>\n",
       "<tr>\n",
       "  <th>beta[1]</th>  <td>    0.6911</td> <td>    0.104</td> <td>    6.633</td> <td>3.287e-11</td>   <td>[  0.487,  0.895]</td>  \n",
       "</tr>\n",
       "</table>\n",
       "<table class=\"simpletable\">\n",
       "<caption>Distribution</caption>\n",
       "<tr>\n",
       "   <td></td>     <th>coef</th>     <th>std err</th>      <th>t</th>       <th>P>|t|</th>   <th>95.0% Conf. Int.</th> \n",
       "</tr>\n",
       "<tr>\n",
       "  <th>nu</th> <td>    4.9354</td> <td>    0.579</td> <td>    8.522</td> <td>1.562e-17</td> <td>[  3.800,  6.070]</td>\n",
       "</tr>\n",
       "</table><br/><br/>Covariance estimator: robust"
      ],
      "text/plain": [
       "<class 'statsmodels.iolib.summary.Summary'>\n",
       "\"\"\"\n",
       "                          Zero Mean - GARCH Model Results                           \n",
       "====================================================================================\n",
       "Dep. Variable:                         None   R-squared:                       0.000\n",
       "Mean Model:                       Zero Mean   Adj. R-squared:                  0.001\n",
       "Vol Model:                            GARCH   Log-Likelihood:               -1182.97\n",
       "Distribution:      Standardized Student's t   AIC:                           2373.95\n",
       "Method:                  Maximum Likelihood   BIC:                           2395.01\n",
       "                                              No. Observations:                 1429\n",
       "Date:                      Wed, Oct 20 2021   Df Residuals:                     1429\n",
       "Time:                              21:37:23   Df Model:                            0\n",
       "                              Volatility Model                              \n",
       "============================================================================\n",
       "                 coef    std err          t      P>|t|      95.0% Conf. Int.\n",
       "----------------------------------------------------------------------------\n",
       "omega          0.0482  2.112e-02      2.281  2.254e-02 [6.782e-03,8.956e-02]\n",
       "alpha[1]       0.1936  6.412e-02      3.019  2.534e-03   [6.793e-02,  0.319]\n",
       "beta[1]        0.6911      0.104      6.633  3.287e-11     [  0.487,  0.895]\n",
       "                              Distribution                              \n",
       "========================================================================\n",
       "                 coef    std err          t      P>|t|  95.0% Conf. Int.\n",
       "------------------------------------------------------------------------\n",
       "nu             4.9354      0.579      8.522  1.562e-17 [  3.800,  6.070]\n",
       "========================================================================\n",
       "\n",
       "Covariance estimator: robust\n",
       "\"\"\""
      ]
     },
     "execution_count": 37,
     "metadata": {},
     "output_type": "execute_result"
    }
   ],
   "source": [
    "varmodel.summary()"
   ]
  },
  {
   "cell_type": "markdown",
   "id": "dea25ae3",
   "metadata": {},
   "source": [
    "On remarque que $\\omega$>0, $\\alpha_1$>0, $\\beta_1$>0 et que $\\alpha_1+\\beta_1$<1 donc la condition de stationnarité au second ordre est vérifiée"
   ]
  },
  {
   "cell_type": "markdown",
   "id": "9bc0a344",
   "metadata": {},
   "source": [
    "On vérifie maintenant la condition concernant $(\\eta_t)$ qui stipule qu'il s'agit d'un bruit blanc fort\n",
    "\n",
    "$$\\hat \\eta_t=\\frac{\\hat e_t}{\\hat \\sigma_t}$$"
   ]
  },
  {
   "cell_type": "code",
   "execution_count": 38,
   "id": "0c06e1b0",
   "metadata": {},
   "outputs": [],
   "source": [
    "eta = varmodel.resid/varmodel.conditional_volatility"
   ]
  },
  {
   "cell_type": "code",
   "execution_count": 39,
   "id": "d5f567bf",
   "metadata": {},
   "outputs": [
    {
     "data": {
      "text/plain": [
       "Text(0.5, 1.0, 'PACF')"
      ]
     },
     "execution_count": 39,
     "metadata": {},
     "output_type": "execute_result"
    },
    {
     "data": {
      "image/png": "[encoded data removed]",
      "text/plain": [
       "<Figure size 720x576 with 2 Axes>"
      ]
     },
     "metadata": {
      "needs_background": "light"
     },
     "output_type": "display_data"
    }
   ],
   "source": [
    "fig, ax = plt.subplots(2)\n",
    "smt.graphics.plot_acf(eta, ax=ax[0], color='blue',vlines_kwargs={'linewidth':3,'color':'blue'})\n",
    "smt.graphics.plot_pacf(eta, ax=ax[1], color='blue', vlines_kwargs={'linewidth':3,'color':'blue'})\n",
    "ax[0].set_title('ACF',fontdict={'weight':'bold'})\n",
    "ax[1].set_title('PACF',fontdict={'weight':'bold'})"
   ]
  },
  {
   "cell_type": "code",
   "execution_count": 40,
   "id": "03d695d2",
   "metadata": {},
   "outputs": [
    {
     "data": {
      "text/html": [
       "<div>\n",
       "<style scoped>\n",
       "    .dataframe tbody tr th:only-of-type {\n",
       "        vertical-align: middle;\n",
       "    }\n",
       "\n",
       "    .dataframe tbody tr th {\n",
       "        vertical-align: top;\n",
       "    }\n",
       "\n",
       "    .dataframe thead th {\n",
       "        text-align: right;\n",
       "    }\n",
       "</style>\n",
       "<table border=\"1\" class=\"dataframe\">\n",
       "  <thead>\n",
       "    <tr style=\"text-align: right;\">\n",
       "      <th></th>\n",
       "      <th>lb_stat</th>\n",
       "      <th>lb_pvalue</th>\n",
       "    </tr>\n",
       "  </thead>\n",
       "  <tbody>\n",
       "    <tr>\n",
       "      <th>1</th>\n",
       "      <td>0.087382</td>\n",
       "      <td>0.767532</td>\n",
       "    </tr>\n",
       "    <tr>\n",
       "      <th>2</th>\n",
       "      <td>0.125504</td>\n",
       "      <td>0.939177</td>\n",
       "    </tr>\n",
       "    <tr>\n",
       "      <th>3</th>\n",
       "      <td>0.384770</td>\n",
       "      <td>0.943370</td>\n",
       "    </tr>\n",
       "    <tr>\n",
       "      <th>4</th>\n",
       "      <td>0.385271</td>\n",
       "      <td>0.983665</td>\n",
       "    </tr>\n",
       "    <tr>\n",
       "      <th>5</th>\n",
       "      <td>5.815111</td>\n",
       "      <td>0.324627</td>\n",
       "    </tr>\n",
       "  </tbody>\n",
       "</table>\n",
       "</div>"
      ],
      "text/plain": [
       "    lb_stat  lb_pvalue\n",
       "1  0.087382   0.767532\n",
       "2  0.125504   0.939177\n",
       "3  0.384770   0.943370\n",
       "4  0.385271   0.983665\n",
       "5  5.815111   0.324627"
      ]
     },
     "execution_count": 40,
     "metadata": {},
     "output_type": "execute_result"
    }
   ],
   "source": [
    "sm.stats.diagnostic.acorr_ljungbox(eta, lags=5, return_df=True)"
   ]
  },
  {
   "cell_type": "markdown",
   "id": "d9791af6",
   "metadata": {},
   "source": [
    "$(\\eta_t)$ s'agit bien (au seuil de 5%) d'un bruit blanc faible. On teste maintenant la présence des effets ARCH  "
   ]
  },
  {
   "cell_type": "code",
   "execution_count": 41,
   "id": "d117c0a0",
   "metadata": {},
   "outputs": [
    {
     "data": {
      "text/plain": [
       "LM            22.272161\n",
       "LM p-value     0.563026\n",
       "F              0.926176\n",
       "F p-value      0.565758\n",
       "dtype: float64"
      ]
     },
     "execution_count": 41,
     "metadata": {},
     "output_type": "execute_result"
    }
   ],
   "source": [
    "tarch=het_arch(eta)\n",
    "name=[\"LM\",\"LM p-value\", \"F\", \"F p-value\"]\n",
    "pd.Series(tarch, index=name)"
   ]
  },
  {
   "cell_type": "markdown",
   "id": "4fb06a4d",
   "metadata": {},
   "source": [
    "On conclue (au seuil de 5%) que $(\\eta_t)$ est un bruit blanc fort"
   ]
  },
  {
   "cell_type": "markdown",
   "id": "78c3f8c4",
   "metadata": {},
   "source": [
    "On retient le modèle AR(2) pour $E(r_{t+1} | \\mathcal{F}_t)$ et le modèle GARCH(1,1) pour $Var(r_{t+1} | \\mathcal{F}_t)$\n",
    "\n",
    "On vérifie maintenant si AR(2)-GARCH(1,1) est le modèle de la série des log rendements"
   ]
  },
  {
   "cell_type": "code",
   "execution_count": 42,
   "id": "c59b9107",
   "metadata": {},
   "outputs": [],
   "source": [
    "from rpy2.robjects.packages import importr, data\n",
    "import rpy2.robjects as ro\n",
    "from rpy2.robjects.conversion import localconverter\n",
    "from rpy2.robjects import pandas2ri\n",
    "from rpy2.robjects.vectors import FloatVector\n",
    "import rpy2.robjects.numpy2ri as rpyn\n",
    "base = importr('base')\n",
    "rugarch = importr('rugarch')"
   ]
  },
  {
   "cell_type": "code",
   "execution_count": 43,
   "id": "9c19f7d0",
   "metadata": {},
   "outputs": [],
   "source": [
    "VModel = rugarch.ugarchspec(mean_model = ro.r('list(armaOrder=c(2,0), include.mean=F)'), variance_model = ro.r('list(model=\"sGARCH\", garchOrder=c(1,1))'), distribution_model='std')\n",
    "Ldata = FloatVector(logreturn.values)\n",
    "VModel_fit = rugarch.ugarchfit(spec=VModel, data=Ldata)"
   ]
  },
  {
   "cell_type": "code",
   "execution_count": 44,
   "id": "024e5faf",
   "metadata": {},
   "outputs": [
    {
     "name": "stdout",
     "output_type": "stream",
     "text": [
      "\n",
      "*---------------------------------*\n",
      "*          GARCH Model Fit        *\n",
      "*---------------------------------*\n",
      "\n",
      "Conditional Variance Dynamics \t\n",
      "-----------------------------------\n",
      "GARCH Model\t: sGARCH(1,1)\n",
      "Mean Model\t: ARFIMA(2,0,0)\n",
      "Distribution\t: std \n",
      "\n",
      "Optimal Parameters\n",
      "------------------------------------\n",
      "        Estimate  Std. Error  t value Pr(>|t|)\n",
      "ar1     0.090452    0.028490  3.17491 0.001499\n",
      "ar2     0.012804    0.026717  0.47925 0.631757\n",
      "omega   0.000005    0.000001  7.81707 0.000000\n",
      "alpha1  0.189465    0.026300  7.20399 0.000000\n",
      "beta1   0.699436    0.028705 24.36623 0.000000\n",
      "shape   4.494794    0.462856  9.71100 0.000000\n",
      "\n",
      "Robust Standard Errors:\n",
      "        Estimate  Std. Error  t value Pr(>|t|)\n",
      "ar1     0.090452    0.030853  2.93173 0.003371\n",
      "ar2     0.012804    0.026177  0.48914 0.624741\n",
      "omega   0.000005    0.000001  5.30695 0.000000\n",
      "alpha1  0.189465    0.025043  7.56553 0.000000\n",
      "beta1   0.699436    0.042971 16.27691 0.000000\n",
      "shape   4.494794    0.556562  8.07599 0.000000\n",
      "\n",
      "LogLikelihood : 5401.916 \n",
      "\n",
      "Information Criteria\n",
      "------------------------------------\n",
      "                    \n",
      "Akaike       -7.5520\n",
      "Bayes        -7.5299\n",
      "Shibata      -7.5521\n",
      "Hannan-Quinn -7.5438\n",
      "\n",
      "Weighted Ljung-Box Test on Standardized Residuals\n",
      "------------------------------------\n",
      "                        statistic   p-value\n",
      "Lag[1]                      4.994 2.544e-02\n",
      "Lag[2*(p+q)+(p+q)-1][5]     7.805 2.469e-08\n",
      "Lag[4*(p+q)+(p+q)-1][9]    10.936 3.585e-03\n",
      "d.o.f=2\n",
      "H0 : No serial correlation\n",
      "\n",
      "Weighted Ljung-Box Test on Standardized Squared Residuals\n",
      "------------------------------------\n",
      "                        statistic p-value\n",
      "Lag[1]                     0.9327  0.3342\n",
      "Lag[2*(p+q)+(p+q)-1][5]    1.4625  0.7491\n",
      "Lag[4*(p+q)+(p+q)-1][9]    4.0966  0.5726\n",
      "d.o.f=2\n",
      "\n",
      "Weighted ARCH LM Tests\n",
      "------------------------------------\n",
      "            Statistic Shape Scale P-Value\n",
      "ARCH Lag[3]   0.02778 0.500 2.000  0.8676\n",
      "ARCH Lag[5]   0.09248 1.440 1.667  0.9882\n",
      "ARCH Lag[7]   3.35309 2.315 1.543  0.4495\n",
      "\n",
      "Nyblom stability test\n",
      "------------------------------------\n",
      "Joint Statistic:  23.3791\n",
      "Individual Statistics:              \n",
      "ar1    0.14887\n",
      "ar2    0.04459\n",
      "omega  3.27998\n",
      "alpha1 0.11134\n",
      "beta1  0.08039\n",
      "shape  0.04234\n",
      "\n",
      "Asymptotic Critical Values (10% 5% 1%)\n",
      "Joint Statistic:     \t 1.49 1.68 2.12\n",
      "Individual Statistic:\t 0.35 0.47 0.75\n",
      "\n",
      "Sign Bias Test\n",
      "------------------------------------\n",
      "                   t-value     prob sig\n",
      "Sign Bias           2.7677 0.005718 ***\n",
      "Negative Sign Bias  1.2594 0.208092    \n",
      "Positive Sign Bias  0.6069 0.544005    \n",
      "Joint Effect        8.3296 0.039669  **\n",
      "\n",
      "\n",
      "Adjusted Pearson Goodness-of-Fit Test:\n",
      "------------------------------------\n",
      "  group statistic p-value(g-1)\n",
      "1    20     13.59       0.8071\n",
      "2    30     31.43       0.3456\n",
      "3    40     26.14       0.9427\n",
      "4    50     34.37       0.9439\n",
      "\n",
      "\n",
      "Elapsed time : 1.0197 \n",
      "\n"
     ]
    },
    {
     "data": {
      "text/plain": [
       "<rpy2.robjects.methods.RS4 object at 0x0000021C631B3300> [RTYPES.S4SXP]\n",
       "R classes: ('uGARCHfit',)"
      ]
     },
     "execution_count": 44,
     "metadata": {},
     "output_type": "execute_result"
    }
   ],
   "source": [
    "base.print(VModel_fit)"
   ]
  },
  {
   "cell_type": "markdown",
   "id": "1bbba511",
   "metadata": {},
   "source": [
    "Le coefficient associé au AR(2) est significativement nul (au seuil de 5%). On retient donc le modèle AR(1)-GARCH(1,1) pour modéliser la série des log rendements"
   ]
  },
  {
   "cell_type": "code",
   "execution_count": 45,
   "id": "49a69cbd",
   "metadata": {},
   "outputs": [],
   "source": [
    "VModelf = rugarch.ugarchspec(mean_model = ro.r('list(armaOrder=c(1,0), include.mean=F)'), variance_model = ro.r('list(model=\"sGARCH\", garchOrder=c(1,1))'), distribution_model='std')\n",
    "Ldata = FloatVector(logreturn.values)\n",
    "VModelf_fit = rugarch.ugarchfit(spec=VModelf, data=Ldata)"
   ]
  },
  {
   "cell_type": "code",
   "execution_count": 46,
   "id": "bba1ec4f",
   "metadata": {},
   "outputs": [
    {
     "name": "stdout",
     "output_type": "stream",
     "text": [
      "\n",
      "*---------------------------------*\n",
      "*          GARCH Model Fit        *\n",
      "*---------------------------------*\n",
      "\n",
      "Conditional Variance Dynamics \t\n",
      "-----------------------------------\n",
      "GARCH Model\t: sGARCH(1,1)\n",
      "Mean Model\t: ARFIMA(1,0,0)\n",
      "Distribution\t: std \n",
      "\n",
      "Optimal Parameters\n",
      "------------------------------------\n",
      "        Estimate  Std. Error  t value Pr(>|t|)\n",
      "ar1     0.091051    0.028439   3.2016 0.001367\n",
      "omega   0.000005    0.000001   7.5540 0.000000\n",
      "alpha1  0.187165    0.025950   7.2126 0.000000\n",
      "beta1   0.702794    0.028390  24.7551 0.000000\n",
      "shape   4.496159    0.461721   9.7378 0.000000\n",
      "\n",
      "Robust Standard Errors:\n",
      "        Estimate  Std. Error  t value Pr(>|t|)\n",
      "ar1     0.091051    0.031533   2.8875 0.003883\n",
      "omega   0.000005    0.000001   5.0766 0.000000\n",
      "alpha1  0.187165    0.024622   7.6017 0.000000\n",
      "beta1   0.702794    0.042834  16.4072 0.000000\n",
      "shape   4.496159    0.550611   8.1658 0.000000\n",
      "\n",
      "LogLikelihood : 5401.991 \n",
      "\n",
      "Information Criteria\n",
      "------------------------------------\n",
      "                    \n",
      "Akaike       -7.5535\n",
      "Bayes        -7.5351\n",
      "Shibata      -7.5535\n",
      "Hannan-Quinn -7.5466\n",
      "\n",
      "Weighted Ljung-Box Test on Standardized Residuals\n",
      "------------------------------------\n",
      "                        statistic   p-value\n",
      "Lag[1]                      4.926 2.646e-02\n",
      "Lag[2*(p+q)+(p+q)-1][2]     6.176 2.571e-05\n",
      "Lag[4*(p+q)+(p+q)-1][5]     8.695 3.947e-03\n",
      "d.o.f=1\n",
      "H0 : No serial correlation\n",
      "\n",
      "Weighted Ljung-Box Test on Standardized Squared Residuals\n",
      "------------------------------------\n",
      "                        statistic p-value\n",
      "Lag[1]                     0.9272  0.3356\n",
      "Lag[2*(p+q)+(p+q)-1][5]    1.4667  0.7481\n",
      "Lag[4*(p+q)+(p+q)-1][9]    4.0510  0.5802\n",
      "d.o.f=2\n",
      "\n",
      "Weighted ARCH LM Tests\n",
      "------------------------------------\n",
      "            Statistic Shape Scale P-Value\n",
      "ARCH Lag[3]   0.02289 0.500 2.000  0.8797\n",
      "ARCH Lag[5]   0.08432 1.440 1.667  0.9896\n",
      "ARCH Lag[7]   3.28152 2.315 1.543  0.4620\n",
      "\n",
      "Nyblom stability test\n",
      "------------------------------------\n",
      "Joint Statistic:  21.9984\n",
      "Individual Statistics:              \n",
      "ar1    0.14873\n",
      "omega  3.04289\n",
      "alpha1 0.10748\n",
      "beta1  0.08419\n",
      "shape  0.04121\n",
      "\n",
      "Asymptotic Critical Values (10% 5% 1%)\n",
      "Joint Statistic:     \t 1.28 1.47 1.88\n",
      "Individual Statistic:\t 0.35 0.47 0.75\n",
      "\n",
      "Sign Bias Test\n",
      "------------------------------------\n",
      "                   t-value     prob sig\n",
      "Sign Bias           2.7615 0.005828 ***\n",
      "Negative Sign Bias  1.2704 0.204144    \n",
      "Positive Sign Bias  0.5955 0.551629    \n",
      "Joint Effect        8.3088 0.040042  **\n",
      "\n",
      "\n",
      "Adjusted Pearson Goodness-of-Fit Test:\n",
      "------------------------------------\n",
      "  group statistic p-value(g-1)\n",
      "1    20     15.35       0.6999\n",
      "2    30     30.84       0.3731\n",
      "3    40     28.66       0.8880\n",
      "4    50     45.91       0.5991\n",
      "\n",
      "\n",
      "Elapsed time : 0.51157 \n",
      "\n"
     ]
    },
    {
     "data": {
      "text/plain": [
       "<rpy2.robjects.methods.RS4 object at 0x0000021C65B59F40> [RTYPES.S4SXP]\n",
       "R classes: ('uGARCHfit',)"
      ]
     },
     "execution_count": 46,
     "metadata": {},
     "output_type": "execute_result"
    }
   ],
   "source": [
    "base.print(VModelf_fit)"
   ]
  },
  {
   "cell_type": "markdown",
   "id": "a10bd2ad",
   "metadata": {},
   "source": [
    "# Value at Risk"
   ]
  },
  {
   "cell_type": "markdown",
   "id": "7e447958",
   "metadata": {},
   "source": [
    "On se place dans un espace probabilisé $(\\Omega,\\mathcal{F},\\mathbb{P})$.\n",
    "\n",
    "#### Variable aléatoire de perte\n",
    "\n",
    "Soit $V_t$ la valeur à l'instant $t$ d'un portefeuille (ici l'indice), le processus $(V_t)_{t\\in \\mathbb{N}}$ est adapté. La variable aléatoire perte entre $t$ et $t+1$ s'écrit comme suit:\n",
    "$$L_{t|t+1}=-(V_{t+1}-V_t)$$\n",
    "\n",
    "Dans la pratique $V_t$ est modélisé comme une fonction de temps et d'un vecteur aléatoire $Z_t=(Z_{t,1},\\dots,Z_{t,d})'$ des facteurs de risque, $Z_t$ est supposé mesurable. Donc $$V_t=f(t,Z_t)$$ \n",
    "Avec $f:\\mathbb{R}_+ \\times \\mathbb{R}^d \\rightarrow \\mathbb{R}$ une fonction mesurable.\n",
    "\n",
    "La série des variations des facteurs de risque est définie comme suit:\n",
    "$$X_t=Z_t-Z_{t-1}$$\n",
    "\n",
    "#### Définitions de la VaR\n",
    "\n",
    "Soit un niveau de confiance $\\alpha \\in ]0,1[$. La VaR du portefeuille pour le niveau de confiance $\\alpha$ est donnée par\n",
    "$$VaR_{\\alpha}=inf\\{l\\in \\mathbb{R}: \\mathbb{P}(L>l)\\leq 1-\\alpha\\}=inf\\{l\\in \\mathbb{R}: F_L(l)\\geq \\alpha\\}$$\n",
    "\n",
    "#### Calcul de la VaR\n",
    "$\\bullet$ Méthode de Variance-Covariance\n",
    "\n",
    "On suppose que la v.a perte s'écrit comme suit:\n",
    "\n",
    "$$L_{t+1}=-(a_t+b_t' X_{t+1})$$\n",
    "\n",
    "Avec $a_t$ une constante connue à $t$, et $b_t$ un vecteur de $\\mathbb{R}^d$ lui aussi connue à $t$.\n",
    "\n",
    "On suppose que $X_{t+1}  | \\mathcal{F}^X_t\\sim \\mathcal{N}_d(\\mu_{t+1}, \\Sigma_{t+1})$, et on a donc\n",
    "\n",
    "$$L_{t+1} | \\mathcal{F}^X_t \\sim \\mathcal{N}(-a_t-b_t' \\mu_{t+1}, b_t'\\Sigma_{t+1} b_t)$$\n",
    "\n",
    "La VaR calculée avec cette méthode est conditionnelle et se note par $VaR_{\\alpha}^{t+1|t}$\n",
    "\n",
    "- De VaR(L) à VaR(r)\n",
    "\n",
    "On a $L_{t+1}=V_t-V_{t+1}=\\frac{R_{t+1|t}}{V_t}$ et $r_{t+1|t}=ln(1+R_{t+1|t})$, donc \n",
    "\n",
    "$$\\mathbb{P}(L_{t+1}\\leq VaR_{\\alpha}^{t+1|t}(L)|\\mathcal{F}_t)=\\alpha \\iff \\mathbb{P}(R_{t+1|t}\\geq -\\frac{VaR_{\\alpha}^{t+1|t}(L)}{V_t}|\\mathcal{F}_t)=\\alpha$$\n",
    "\n",
    "$$\\iff \\mathbb{P}(r_{t+1|t}\\geq ln(1-\\frac{VaR_{\\alpha}^{t+1|t}(L)}{V_t}|\\mathcal{F}_t)=\\alpha$$\n",
    "\n",
    "D'où,$VaR_{\\alpha}^{t+1|t}(L)=-V_t$ $VaR_{1-\\alpha}^{t+1|t}(R)= V_t(1-exp(VaR_{1-\\alpha}^{t+1|t}(r))$\n",
    "\n",
    "La VaR conditionnelle est donnée par:\n",
    "$$VaR_{\\alpha}^{t+1|t}(r)= E(r_{t+1} | \\mathcal{F}_t) + Var(r_{t+1} | \\mathcal{F}_t) q_{\\alpha}$$\n",
    "\n",
    "$q_{\\alpha}$ est le quantile d'ordre $\\alpha$ de la loi conditionnelle de $r_{t+1}$"
   ]
  },
  {
   "cell_type": "markdown",
   "id": "8479a88e",
   "metadata": {},
   "source": [
    "## Estimation et prévision de la VaR par Rolling Window"
   ]
  },
  {
   "cell_type": "markdown",
   "id": "225f3828",
   "metadata": {},
   "source": [
    "On dispose de 1429 observations de la série $(r_t)$, on divise cet échantillon en deux partie, une pour l'estimation des paramètres at une autre pour le test. \n",
    "\n",
    "La première est composée de 1129 observations, la deuxième de 300."
   ]
  },
  {
   "cell_type": "code",
   "execution_count": 55,
   "id": "59bd509a",
   "metadata": {},
   "outputs": [
    {
     "data": {
      "text/plain": [
       "'2020-07-15 00:00:00'"
      ]
     },
     "execution_count": 55,
     "metadata": {},
     "output_type": "execute_result"
    }
   ],
   "source": [
    "str(logreturn.index[1129])"
   ]
  },
  {
   "cell_type": "markdown",
   "id": "6820ee20",
   "metadata": {},
   "source": [
    "### Calcul de la VaR par le modèle AR(1)-GARCH(1,1)"
   ]
  },
  {
   "cell_type": "code",
   "execution_count": 57,
   "id": "c945a9fc",
   "metadata": {},
   "outputs": [],
   "source": [
    "argarch_forecast = rugarch.ugarchroll(spec= VModelf, n_ahead = 1, n_start=1129, refit_every=1, refit_window = 'moving', data=Ldata)"
   ]
  },
  {
   "cell_type": "code",
   "execution_count": 71,
   "id": "c3d2967d",
   "metadata": {},
   "outputs": [],
   "source": [
    "#de R à Python\n",
    "with localconverter(ro.default_converter + pandas2ri.converter):\n",
    "  out = ro.conversion.rpy2py(argarch_forecast.slots['forecast'][1])"
   ]
  },
  {
   "cell_type": "code",
   "execution_count": 72,
   "id": "f11236e3",
   "metadata": {},
   "outputs": [],
   "source": [
    "out.index=logreturn.loc['2020-07-15':].index"
   ]
  },
  {
   "cell_type": "code",
   "execution_count": 73,
   "id": "08824bde",
   "metadata": {},
   "outputs": [
    {
     "data": {
      "text/html": [
       "<div>\n",
       "<style scoped>\n",
       "    .dataframe tbody tr th:only-of-type {\n",
       "        vertical-align: middle;\n",
       "    }\n",
       "\n",
       "    .dataframe tbody tr th {\n",
       "        vertical-align: top;\n",
       "    }\n",
       "\n",
       "    .dataframe thead th {\n",
       "        text-align: right;\n",
       "    }\n",
       "</style>\n",
       "<table border=\"1\" class=\"dataframe\">\n",
       "  <thead>\n",
       "    <tr style=\"text-align: right;\">\n",
       "      <th></th>\n",
       "      <th>Mu</th>\n",
       "      <th>Sigma</th>\n",
       "      <th>Skew</th>\n",
       "      <th>Shape</th>\n",
       "      <th>Shape(GIG)</th>\n",
       "      <th>Realized</th>\n",
       "    </tr>\n",
       "    <tr>\n",
       "      <th>Date</th>\n",
       "      <th></th>\n",
       "      <th></th>\n",
       "      <th></th>\n",
       "      <th></th>\n",
       "      <th></th>\n",
       "      <th></th>\n",
       "    </tr>\n",
       "  </thead>\n",
       "  <tbody>\n",
       "    <tr>\n",
       "      <th>2020-07-15</th>\n",
       "      <td>-0.000177</td>\n",
       "      <td>0.005106</td>\n",
       "      <td>0.0</td>\n",
       "      <td>4.758049</td>\n",
       "      <td>0.0</td>\n",
       "      <td>0.009950</td>\n",
       "    </tr>\n",
       "    <tr>\n",
       "      <th>2020-07-16</th>\n",
       "      <td>0.001047</td>\n",
       "      <td>0.006863</td>\n",
       "      <td>0.0</td>\n",
       "      <td>4.733710</td>\n",
       "      <td>0.0</td>\n",
       "      <td>0.001902</td>\n",
       "    </tr>\n",
       "    <tr>\n",
       "      <th>2020-07-17</th>\n",
       "      <td>0.000200</td>\n",
       "      <td>0.006024</td>\n",
       "      <td>0.0</td>\n",
       "      <td>4.731620</td>\n",
       "      <td>0.0</td>\n",
       "      <td>-0.000034</td>\n",
       "    </tr>\n",
       "    <tr>\n",
       "      <th>2020-07-20</th>\n",
       "      <td>-0.000004</td>\n",
       "      <td>0.005407</td>\n",
       "      <td>0.0</td>\n",
       "      <td>4.724218</td>\n",
       "      <td>0.0</td>\n",
       "      <td>-0.000949</td>\n",
       "    </tr>\n",
       "    <tr>\n",
       "      <th>2020-07-21</th>\n",
       "      <td>-0.000100</td>\n",
       "      <td>0.004987</td>\n",
       "      <td>0.0</td>\n",
       "      <td>4.713954</td>\n",
       "      <td>0.0</td>\n",
       "      <td>-0.003288</td>\n",
       "    </tr>\n",
       "    <tr>\n",
       "      <th>...</th>\n",
       "      <td>...</td>\n",
       "      <td>...</td>\n",
       "      <td>...</td>\n",
       "      <td>...</td>\n",
       "      <td>...</td>\n",
       "      <td>...</td>\n",
       "    </tr>\n",
       "    <tr>\n",
       "      <th>2021-09-27</th>\n",
       "      <td>0.000288</td>\n",
       "      <td>0.005742</td>\n",
       "      <td>0.0</td>\n",
       "      <td>4.431407</td>\n",
       "      <td>0.0</td>\n",
       "      <td>-0.000751</td>\n",
       "    </tr>\n",
       "    <tr>\n",
       "      <th>2021-09-28</th>\n",
       "      <td>-0.000052</td>\n",
       "      <td>0.005430</td>\n",
       "      <td>0.0</td>\n",
       "      <td>4.425975</td>\n",
       "      <td>0.0</td>\n",
       "      <td>0.003603</td>\n",
       "    </tr>\n",
       "    <tr>\n",
       "      <th>2021-09-29</th>\n",
       "      <td>0.000250</td>\n",
       "      <td>0.005332</td>\n",
       "      <td>0.0</td>\n",
       "      <td>4.447806</td>\n",
       "      <td>0.0</td>\n",
       "      <td>0.002116</td>\n",
       "    </tr>\n",
       "    <tr>\n",
       "      <th>2021-09-30</th>\n",
       "      <td>0.000148</td>\n",
       "      <td>0.005126</td>\n",
       "      <td>0.0</td>\n",
       "      <td>4.470880</td>\n",
       "      <td>0.0</td>\n",
       "      <td>-0.000793</td>\n",
       "    </tr>\n",
       "    <tr>\n",
       "      <th>2021-01-10</th>\n",
       "      <td>-0.000055</td>\n",
       "      <td>0.004940</td>\n",
       "      <td>0.0</td>\n",
       "      <td>4.478055</td>\n",
       "      <td>0.0</td>\n",
       "      <td>-0.006170</td>\n",
       "    </tr>\n",
       "  </tbody>\n",
       "</table>\n",
       "<p>300 rows × 6 columns</p>\n",
       "</div>"
      ],
      "text/plain": [
       "                  Mu     Sigma  Skew     Shape  Shape(GIG)  Realized\n",
       "Date                                                                \n",
       "2020-07-15 -0.000177  0.005106   0.0  4.758049         0.0  0.009950\n",
       "2020-07-16  0.001047  0.006863   0.0  4.733710         0.0  0.001902\n",
       "2020-07-17  0.000200  0.006024   0.0  4.731620         0.0 -0.000034\n",
       "2020-07-20 -0.000004  0.005407   0.0  4.724218         0.0 -0.000949\n",
       "2020-07-21 -0.000100  0.004987   0.0  4.713954         0.0 -0.003288\n",
       "...              ...       ...   ...       ...         ...       ...\n",
       "2021-09-27  0.000288  0.005742   0.0  4.431407         0.0 -0.000751\n",
       "2021-09-28 -0.000052  0.005430   0.0  4.425975         0.0  0.003603\n",
       "2021-09-29  0.000250  0.005332   0.0  4.447806         0.0  0.002116\n",
       "2021-09-30  0.000148  0.005126   0.0  4.470880         0.0 -0.000793\n",
       "2021-01-10 -0.000055  0.004940   0.0  4.478055         0.0 -0.006170\n",
       "\n",
       "[300 rows x 6 columns]"
      ]
     },
     "execution_count": 73,
     "metadata": {},
     "output_type": "execute_result"
    }
   ],
   "source": [
    "out"
   ]
  },
  {
   "cell_type": "code",
   "execution_count": 74,
   "id": "19b79012",
   "metadata": {},
   "outputs": [],
   "source": [
    "q=[]\n",
    "for i in range(out.shape[0]):\n",
    "    q.append(rugarch.qdist(distribution='std', p=0.05, shape=FloatVector(out['Shape'])))"
   ]
  },
  {
   "cell_type": "code",
   "execution_count": 75,
   "id": "92904835",
   "metadata": {},
   "outputs": [
    {
     "data": {
      "text/plain": [
       "Date\n",
       "2020-07-15   -0.008099\n",
       "2020-07-16   -0.009594\n",
       "2020-07-17   -0.009140\n",
       "2020-07-20   -0.008385\n",
       "2020-07-21   -0.007827\n",
       "                ...   \n",
       "2021-09-27   -0.008531\n",
       "2021-09-28   -0.008391\n",
       "2021-09-29   -0.007944\n",
       "2021-09-30   -0.007737\n",
       "2021-01-10   -0.007655\n",
       "Length: 300, dtype: float64"
      ]
     },
     "execution_count": 75,
     "metadata": {},
     "output_type": "execute_result"
    }
   ],
   "source": [
    "VaR_argarch = pd.Series(out['Mu'].values + out['Sigma'].values*np.array(q[0]), index=out.index)\n",
    "VaR_argarch"
   ]
  },
  {
   "cell_type": "code",
   "execution_count": 85,
   "id": "95420e85",
   "metadata": {},
   "outputs": [
    {
     "data": {
      "text/html": [
       "<div>\n",
       "<style scoped>\n",
       "    .dataframe tbody tr th:only-of-type {\n",
       "        vertical-align: middle;\n",
       "    }\n",
       "\n",
       "    .dataframe tbody tr th {\n",
       "        vertical-align: top;\n",
       "    }\n",
       "\n",
       "    .dataframe thead th {\n",
       "        text-align: right;\n",
       "    }\n",
       "</style>\n",
       "<table border=\"1\" class=\"dataframe\">\n",
       "  <thead>\n",
       "    <tr style=\"text-align: right;\">\n",
       "      <th></th>\n",
       "      <th>logreturn</th>\n",
       "      <th>VaR_argarch</th>\n",
       "    </tr>\n",
       "    <tr>\n",
       "      <th>Date</th>\n",
       "      <th></th>\n",
       "      <th></th>\n",
       "    </tr>\n",
       "  </thead>\n",
       "  <tbody>\n",
       "    <tr>\n",
       "      <th>2020-07-15</th>\n",
       "      <td>0.009950</td>\n",
       "      <td>-0.008099</td>\n",
       "    </tr>\n",
       "    <tr>\n",
       "      <th>2020-07-16</th>\n",
       "      <td>0.001902</td>\n",
       "      <td>-0.009594</td>\n",
       "    </tr>\n",
       "    <tr>\n",
       "      <th>2020-07-17</th>\n",
       "      <td>-0.000034</td>\n",
       "      <td>-0.009140</td>\n",
       "    </tr>\n",
       "    <tr>\n",
       "      <th>2020-07-20</th>\n",
       "      <td>-0.000949</td>\n",
       "      <td>-0.008385</td>\n",
       "    </tr>\n",
       "    <tr>\n",
       "      <th>2020-07-21</th>\n",
       "      <td>-0.003288</td>\n",
       "      <td>-0.007827</td>\n",
       "    </tr>\n",
       "    <tr>\n",
       "      <th>...</th>\n",
       "      <td>...</td>\n",
       "      <td>...</td>\n",
       "    </tr>\n",
       "    <tr>\n",
       "      <th>2021-09-27</th>\n",
       "      <td>-0.000751</td>\n",
       "      <td>-0.008531</td>\n",
       "    </tr>\n",
       "    <tr>\n",
       "      <th>2021-09-28</th>\n",
       "      <td>0.003603</td>\n",
       "      <td>-0.008391</td>\n",
       "    </tr>\n",
       "    <tr>\n",
       "      <th>2021-09-29</th>\n",
       "      <td>0.002116</td>\n",
       "      <td>-0.007944</td>\n",
       "    </tr>\n",
       "    <tr>\n",
       "      <th>2021-09-30</th>\n",
       "      <td>-0.000793</td>\n",
       "      <td>-0.007737</td>\n",
       "    </tr>\n",
       "    <tr>\n",
       "      <th>2021-01-10</th>\n",
       "      <td>-0.006170</td>\n",
       "      <td>-0.007655</td>\n",
       "    </tr>\n",
       "  </tbody>\n",
       "</table>\n",
       "<p>300 rows × 2 columns</p>\n",
       "</div>"
      ],
      "text/plain": [
       "            logreturn  VaR_argarch\n",
       "Date                              \n",
       "2020-07-15   0.009950    -0.008099\n",
       "2020-07-16   0.001902    -0.009594\n",
       "2020-07-17  -0.000034    -0.009140\n",
       "2020-07-20  -0.000949    -0.008385\n",
       "2020-07-21  -0.003288    -0.007827\n",
       "...               ...          ...\n",
       "2021-09-27  -0.000751    -0.008531\n",
       "2021-09-28   0.003603    -0.008391\n",
       "2021-09-29   0.002116    -0.007944\n",
       "2021-09-30  -0.000793    -0.007737\n",
       "2021-01-10  -0.006170    -0.007655\n",
       "\n",
       "[300 rows x 2 columns]"
      ]
     },
     "execution_count": 85,
     "metadata": {},
     "output_type": "execute_result"
    }
   ],
   "source": [
    "bargarch=pd.concat([logreturn.loc['2020-07-15':],VaR_argarch],axis=1)\n",
    "bargarch.columns = ['logreturn', 'VaR_argarch']\n",
    "bargarch"
   ]
  },
  {
   "cell_type": "markdown",
   "id": "64ec98f1",
   "metadata": {},
   "source": [
    "On a un $dépacement$ lorsque: $r_{t+1}\\leq \\widehat{VaR}_{\\alpha}^{t+1|t}$"
   ]
  },
  {
   "cell_type": "code",
   "execution_count": 87,
   "id": "2c692605",
   "metadata": {},
   "outputs": [],
   "source": [
    "dep_argarch=bargarch[bargarch['logreturn']<=bargarch['VaR_argarch']]['logreturn']"
   ]
  },
  {
   "cell_type": "code",
   "execution_count": 101,
   "id": "960f8a20",
   "metadata": {},
   "outputs": [
    {
     "data": {
      "text/plain": [
       "<matplotlib.legend.Legend at 0x21c74e11790>"
      ]
     },
     "execution_count": 101,
     "metadata": {},
     "output_type": "execute_result"
    },
    {
     "data": {
      "image/png": "[encoded data removed]",
      "text/plain": [
       "<Figure size 720x576 with 1 Axes>"
      ]
     },
     "metadata": {
      "needs_background": "light"
     },
     "output_type": "display_data"
    }
   ],
   "source": [
    "bargarch['logreturn'].plot(color='firebrick',label='log-rendement')\n",
    "bargarch['VaR_argarch'].plot(color='lightcoral',label='VaR')\n",
    "plt.scatter(dep_argarch.index, dep_argarch.values, color='black',label='dépassement')\n",
    "plt.legend()"
   ]
  },
  {
   "cell_type": "markdown",
   "id": "ee46f21e",
   "metadata": {},
   "source": [
    "#### Ratio de dépassement"
   ]
  },
  {
   "cell_type": "markdown",
   "id": "66c64c64",
   "metadata": {},
   "source": [
    "$$Rd=\\frac{1}{T-W}\\sum_{t=W+1}^{T}\\mathbb{1}_{\\{r_{t}\\leq VaR_{\\alpha}^{t|t-1}\\}}$$\n",
    "\n",
    "$W$ la taille de la fenêtre"
   ]
  },
  {
   "cell_type": "code",
   "execution_count": 105,
   "id": "a8b6ee0b",
   "metadata": {},
   "outputs": [
    {
     "data": {
      "text/plain": [
       "0.02666666666666667"
      ]
     },
     "execution_count": 105,
     "metadata": {},
     "output_type": "execute_result"
    }
   ],
   "source": [
    "Rd_argarch=len(dep_argarch)/300\n",
    "Rd_argarch"
   ]
  }
 ],
 "metadata": {
  "kernelspec": {
   "display_name": "Python 3",
   "language": "python",
   "name": "python3"
  },
  "language_info": {
   "codemirror_mode": {
    "name": "ipython",
    "version": 3
   },
   "file_extension": ".py",
   "mimetype": "text/x-python",
   "name": "python",
   "nbconvert_exporter": "python",
   "pygments_lexer": "ipython3",
   "version": "3.8.8"
  }
 },
 "nbformat": 4,
 "nbformat_minor": 5
}
